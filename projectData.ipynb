{
 "cells": [
  {
   "cell_type": "code",
   "execution_count": 13,
   "id": "ce970e4d",
   "metadata": {},
   "outputs": [],
   "source": [
    "import pandas as pd\n",
    "import matplotlib.pyplot as plt"
   ]
  },
  {
   "cell_type": "code",
   "execution_count": 14,
   "id": "3f33d598",
   "metadata": {},
   "outputs": [],
   "source": [
    "df = pd.read_csv(\"data/LargestCompaniesInUSAbyReveneue.csv\")"
   ]
  },
  {
   "cell_type": "markdown",
   "id": "b39767d0",
   "metadata": {},
   "source": [
    "2022 Revenue information for the top 100 companies in the United States."
   ]
  },
  {
   "cell_type": "markdown",
   "id": "3833459e",
   "metadata": {},
   "source": [
    "The top 5 companies by revenue in 2022 in the United States."
   ]
  },
  {
   "cell_type": "code",
   "execution_count": 15,
   "id": "dea988bb",
   "metadata": {},
   "outputs": [
    {
     "data": {
      "text/html": [
       "<div>\n",
       "<style scoped>\n",
       "    .dataframe tbody tr th:only-of-type {\n",
       "        vertical-align: middle;\n",
       "    }\n",
       "\n",
       "    .dataframe tbody tr th {\n",
       "        vertical-align: top;\n",
       "    }\n",
       "\n",
       "    .dataframe thead th {\n",
       "        text-align: right;\n",
       "    }\n",
       "</style>\n",
       "<table border=\"1\" class=\"dataframe\">\n",
       "  <thead>\n",
       "    <tr style=\"text-align: right;\">\n",
       "      <th></th>\n",
       "      <th>Rank</th>\n",
       "      <th>Name</th>\n",
       "      <th>Industry</th>\n",
       "      <th>Revenue (USD millions)</th>\n",
       "      <th>Revenue growth</th>\n",
       "      <th>Employees</th>\n",
       "      <th>Headquarters</th>\n",
       "    </tr>\n",
       "  </thead>\n",
       "  <tbody>\n",
       "    <tr>\n",
       "      <th>0</th>\n",
       "      <td>1</td>\n",
       "      <td>Walmart</td>\n",
       "      <td>General merchandisers</td>\n",
       "      <td>572,754</td>\n",
       "      <td>2.40%</td>\n",
       "      <td>2300000.0</td>\n",
       "      <td>Bentonville, Arkansas</td>\n",
       "    </tr>\n",
       "    <tr>\n",
       "      <th>1</th>\n",
       "      <td>2</td>\n",
       "      <td>Amazon</td>\n",
       "      <td>Retail and Cloud Computing</td>\n",
       "      <td>469,822</td>\n",
       "      <td>21.70%</td>\n",
       "      <td>1608000.0</td>\n",
       "      <td>Seattle, Washington</td>\n",
       "    </tr>\n",
       "    <tr>\n",
       "      <th>2</th>\n",
       "      <td>3</td>\n",
       "      <td>Apple</td>\n",
       "      <td>Electronics industry</td>\n",
       "      <td>365,817</td>\n",
       "      <td>33.20%</td>\n",
       "      <td>154000.0</td>\n",
       "      <td>Cupertino, California</td>\n",
       "    </tr>\n",
       "    <tr>\n",
       "      <th>3</th>\n",
       "      <td>4</td>\n",
       "      <td>CVS Health</td>\n",
       "      <td>Healthcare</td>\n",
       "      <td>292,111</td>\n",
       "      <td>32.00%</td>\n",
       "      <td>258000.0</td>\n",
       "      <td>Woonsocket, Rhode Island</td>\n",
       "    </tr>\n",
       "    <tr>\n",
       "      <th>4</th>\n",
       "      <td>5</td>\n",
       "      <td>UnitedHealth Group</td>\n",
       "      <td>Healthcare</td>\n",
       "      <td>287,597</td>\n",
       "      <td>11.80%</td>\n",
       "      <td>350000.0</td>\n",
       "      <td>Minnetonka, Minnesota</td>\n",
       "    </tr>\n",
       "  </tbody>\n",
       "</table>\n",
       "</div>"
      ],
      "text/plain": [
       "   Rank                Name                    Industry  \\\n",
       "0     1             Walmart       General merchandisers   \n",
       "1     2              Amazon  Retail and Cloud Computing   \n",
       "2     3               Apple        Electronics industry   \n",
       "3     4          CVS Health                  Healthcare   \n",
       "4     5  UnitedHealth Group                  Healthcare   \n",
       "\n",
       "  Revenue (USD millions) Revenue growth  Employees              Headquarters  \n",
       "0                572,754          2.40%  2300000.0     Bentonville, Arkansas  \n",
       "1                469,822         21.70%  1608000.0       Seattle, Washington  \n",
       "2                365,817         33.20%   154000.0     Cupertino, California  \n",
       "3                292,111         32.00%   258000.0  Woonsocket, Rhode Island  \n",
       "4                287,597         11.80%   350000.0     Minnetonka, Minnesota  "
      ]
     },
     "execution_count": 15,
     "metadata": {},
     "output_type": "execute_result"
    }
   ],
   "source": [
    "df.head()"
   ]
  },
  {
   "cell_type": "markdown",
   "id": "cb01a5c0",
   "metadata": {},
   "source": [
    "Which industry appears the most/least in the top 100 companies?"
   ]
  },
  {
   "cell_type": "code",
   "execution_count": 16,
   "id": "a016169d",
   "metadata": {},
   "outputs": [
    {
     "data": {
      "text/plain": [
       "Industry\n",
       "Financials                         12\n",
       "Retail                              9\n",
       "Petroleum industry                  9\n",
       "Pharmaceutical industry             7\n",
       "Technology                          7\n",
       "Insurance                           7\n",
       "Healthcare                          6\n",
       "Conglomerate                        4\n",
       "Telecommunications                  3\n",
       "Transportation                      2\n",
       "Financial                           2\n",
       "Pharmaceuticals                     2\n",
       "Health Insurance                    2\n",
       "Health                              1\n",
       "Retail and Cloud Computing          1\n",
       "Electronics industry                1\n",
       "General merchandisers               1\n",
       "Food industry                       1\n",
       "Beverage                            1\n",
       "Consumer products Manufacturing     1\n",
       "Media                               1\n",
       "Aerospace and Defense               1\n",
       "Automotive industry                 1\n",
       "Automotive                          1\n",
       "Financial services                  1\n",
       "Automotive and Energy               1\n",
       "Chemical industry                   1\n",
       "Aerospace and defense               1\n",
       "Food Service                        1\n",
       "Machinery                           1\n",
       "Telecom Hardware Manufacturing      1\n",
       "Food Processing                     1\n",
       "Apparel                             1\n",
       "Agriculture manufacturing           1\n",
       "Medical devices                     1\n",
       "Software                            1\n",
       "Laboratory instruments              1\n",
       "Beverages                           1\n",
       "Airspace and defense                1\n",
       "Agriculture cooperative             1\n",
       "Metals                              1\n",
       "Name: count, dtype: int64"
      ]
     },
     "execution_count": 16,
     "metadata": {},
     "output_type": "execute_result"
    }
   ],
   "source": [
    "df['Industry'].value_counts()"
   ]
  },
  {
   "cell_type": "markdown",
   "id": "405dc3b2",
   "metadata": {},
   "source": [
    "Which state/city hosts the most/least top 100 revenue companies in the United States?"
   ]
  },
  {
   "cell_type": "code",
   "execution_count": 17,
   "id": "675533de",
   "metadata": {},
   "outputs": [
    {
     "data": {
      "text/plain": [
       "Headquarters\n",
       "New York City, New York           13\n",
       "Houston, Texas                     5\n",
       "Chicago, Illinois                  3\n",
       "Atlanta, Georgia                   3\n",
       "Dallas, Texas                      2\n",
       "                                  ..\n",
       "Beaverton, Oregon                  1\n",
       "Moline, Illinois                   1\n",
       "Reston, Virginia                   1\n",
       "Inver Grove Heights, Minnesota     1\n",
       "Milwaukee, Wisconsin               1\n",
       "Name: count, Length: 71, dtype: int64"
      ]
     },
     "execution_count": 17,
     "metadata": {},
     "output_type": "execute_result"
    }
   ],
   "source": [
    "df['Headquarters'].value_counts()"
   ]
  },
  {
   "cell_type": "markdown",
   "id": "113d4374",
   "metadata": {},
   "source": [
    "Which companies have employees below 100,000?"
   ]
  },
  {
   "cell_type": "code",
   "execution_count": 21,
   "id": "29ba9829",
   "metadata": {},
   "outputs": [
    {
     "name": "stdout",
     "output_type": "stream",
     "text": [
      "    Rank                                 Name                        Industry  \\\n",
      "5      6                          Exxon Mobil              Petroleum industry   \n",
      "8      9                 McKesson Corporation                          Health   \n",
      "9     10                    AmerisourceBergen         Pharmaceutical industry   \n",
      "12    13                                Cigna                Health Insurance   \n",
      "14    15                      Cardinal Health                      Healthcare   \n",
      "15    16                  Chevron Corporation              Petroleum industry   \n",
      "18    19                   Marathon Petroleum              Petroleum industry   \n",
      "19    20                      Elevance Health                      Healthcare   \n",
      "25    26                              Centene                      Healthcare   \n",
      "26    27                       Meta Platforms                      Technology   \n",
      "28    29                          Phillips 66              Petroleum industry   \n",
      "29    30                        Valero Energy              Petroleum industry   \n",
      "32    33                           Fannie Mae                      Financials   \n",
      "37    38               Archer Daniels Midland                   Food industry   \n",
      "39    40                               Humana                Health Insurance   \n",
      "41    42                           State Farm                      Financials   \n",
      "42    43                               Pfizer         Pharmaceutical industry   \n",
      "49    50                              MetLife                      Financials   \n",
      "50    51                 Prudential Financial                      Financials   \n",
      "53    54             Energy Transfer Partners              Petroleum industry   \n",
      "55    56                          Freddie Mac                      Financials   \n",
      "56    57                        Goldman Sachs                      Financials   \n",
      "58    59                                   HP                      Technology   \n",
      "60    61                       Morgan Stanley                      Financials   \n",
      "62    63                               AbbVie         Pharmaceutical industry   \n",
      "63    64                 Dow Chemical Company               Chemical industry   \n",
      "64    65                                Tesla           Automotive and Energy   \n",
      "65    66                             Allstate                       Insurance   \n",
      "66    67                                  AIG                       Insurance   \n",
      "67    68                             Best Buy                          Retail   \n",
      "68    69               Charter Communications              Telecommunications   \n",
      "69    70                                Sysco                    Food Service   \n",
      "70    71                          Merck & Co.         Pharmaceutical industry   \n",
      "71    72      New York Life Insurance Company                       Insurance   \n",
      "74    75                                Cisco  Telecom Hardware Manufacturing   \n",
      "77    78                       ConocoPhillips              Petroleum industry   \n",
      "78    79                 Liberty Mutual Group                       Insurance   \n",
      "79    80              Progressive Corporation                       Insurance   \n",
      "80    81  Nationwide Mutual Insurance Company                       Financial   \n",
      "82    83                 Bristol-Myers Squibb         Pharmaceutical industry   \n",
      "83    84                              GSK plc                 Pharmaceuticals   \n",
      "84    85                                 Nike                         Apparel   \n",
      "85    86                           John Deere       Agriculture manufacturing   \n",
      "86    87                     American Express                       Financial   \n",
      "88    89                         StoneX Group                      Financials   \n",
      "89    90         Plains All American Pipeline              Petroleum industry   \n",
      "90    91                  Enterprise Products              Petroleum industry   \n",
      "91    92                                 TIAA                       Insurance   \n",
      "94    95                    Coca-Cola Company                       Beverages   \n",
      "96    97                                  CHS         Agriculture cooperative   \n",
      "97    98                                 USAA                      Financials   \n",
      "98    99                  Northwestern Mutual                       Insurance   \n",
      "99   100                                Nucor                          Metals   \n",
      "\n",
      "   Revenue (USD millions) Revenue growth  Employees  \\\n",
      "5                 285,640         57.40%    63000.0   \n",
      "8                 238,228          3.10%    67500.0   \n",
      "9                 213,989         12.70%    40000.0   \n",
      "12                174,078          8.50%    72963.0   \n",
      "14                162,467          6.20%    46827.0   \n",
      "15                162,465         71.60%    42595.0   \n",
      "18                141,032         58.50%    17700.0   \n",
      "19                138,639         13.80%    98200.0   \n",
      "25                125,982         13.40%    72500.0   \n",
      "26                117,385         37.20%    71970.0   \n",
      "28                114,852         75.40%    14000.0   \n",
      "29                108,332         80.20%     9804.0   \n",
      "32                101,543          4.60%     7400.0   \n",
      "37                 85,959         32.50%    39979.0   \n",
      "39                 83,064          7.70%    95500.0   \n",
      "41                 82,407          4.20%    53586.0   \n",
      "42                 81,288         94.00%    79000.0   \n",
      "49                 71,080          4.80%    43000.0   \n",
      "50                 70,934         24.40%    40916.0   \n",
      "53                 67,418         73.10%    12558.0   \n",
      "55                 65,898          0.50%     7301.0   \n",
      "56                 64,989          2.70%    43900.0   \n",
      "58                 63,487         12.10%    51000.0   \n",
      "60                 61,121         17.40%    74814.0   \n",
      "62                 56,197         22.70%    50000.0   \n",
      "63                 54,968         42.60%    35700.0   \n",
      "64                 53,823         70.70%    99290.0   \n",
      "65                 53,228         18.80%    54500.0   \n",
      "66                 52,057         19.00%    36600.0   \n",
      "67                 51,761          9.50%    81375.0   \n",
      "68                 51,682          7.50%    93700.0   \n",
      "69                 51,298          3.00%    57710.0   \n",
      "70                 51,216          6.70%    67500.0   \n",
      "71                 51,199          9.60%    13344.0   \n",
      "74                 49,818          1.00%    79500.0   \n",
      "77                 48,349        151.10%     9900.0   \n",
      "78                 48,200         10.10%    45000.0   \n",
      "79                 47,702         11.80%    49077.0   \n",
      "80                 47,376         13.00%    24134.0   \n",
      "82                 46,385          9.10%    32200.0   \n",
      "83                 44,700          3.00%    97000.0   \n",
      "84                 44,538         19.10%    73300.0   \n",
      "85                 44,024         23.90%    75550.0   \n",
      "86                 43,663         14.30%    64000.0   \n",
      "88                 42,534         21.40%     3242.0   \n",
      "89                 42,078         80.70%     4100.0   \n",
      "90                 40,807         50.00%     6911.0   \n",
      "91                 40,526          2.60%    15065.0   \n",
      "94                 38,655         17.10%    79000.0   \n",
      "96                 38,448          1.40%     9941.0   \n",
      "97                 37,470          3.20%    37335.0   \n",
      "98                 36,751          8.80%     7585.0   \n",
      "99                 36,484         81.20%    28800.0   \n",
      "\n",
      "                                  Headquarters  \n",
      "5                                Spring, Texas  \n",
      "8                                Irving, Texas  \n",
      "9                   Chesterbrook, Pennsylvania  \n",
      "12                     Bloomfield, Connecticut  \n",
      "14                                Dublin, Ohio  \n",
      "15                       San Ramon, California  \n",
      "18                               Findlay, Ohio  \n",
      "19                       Indianapolis, Indiana  \n",
      "25                         St. Louis, Missouri  \n",
      "26                      Menlo Park, California  \n",
      "28                              Houston, Texas  \n",
      "29                          San Antonio, Texas  \n",
      "32                            Washington, D.C.  \n",
      "37                           Chicago, Illinois  \n",
      "39                        Louisville, Kentucky  \n",
      "41                       Bloomington, Illinois  \n",
      "42                     New York City, New York  \n",
      "49                     New York City, New York  \n",
      "50                          Newark, New Jersey  \n",
      "53                               Dallas, Texas  \n",
      "55                            McLean, Virginia  \n",
      "56                     New York City, New York  \n",
      "58                       Palo Alto, California  \n",
      "60                     New York City, New York  \n",
      "62                        Lake Bluff, Illinois  \n",
      "63                           Midland, Michigan  \n",
      "64                               Austin, Texas  \n",
      "65  Northfield Township, Cook County, Illinois  \n",
      "66                     New York City, New York  \n",
      "67                        Richfield, Minnesota  \n",
      "68                       Stamford, Connecticut  \n",
      "69                              Houston, Texas  \n",
      "70                      Kenilworth, New Jersey  \n",
      "71                     New York City, New York  \n",
      "74                        San Jose, California  \n",
      "77                              Houston, Texas  \n",
      "78                       Boston, Massachusetts  \n",
      "79                      Mayfield Village, Ohio  \n",
      "80                              Columbus, Ohio  \n",
      "82                     New York City, New York  \n",
      "83                  Philadelphia, Pennsylvania  \n",
      "84                           Beaverton, Oregon  \n",
      "85                            Moline, Illinois  \n",
      "86                     New York City, New York  \n",
      "88                     New York City, New York  \n",
      "89                              Houston, Texas  \n",
      "90                              Houston, Texas  \n",
      "91                     New York City, New York  \n",
      "94                            Atlanta, Georgia  \n",
      "96              Inver Grove Heights, Minnesota  \n",
      "97                          San Antonio, Texas  \n",
      "98                        Milwaukee, Wisconsin  \n",
      "99                   Charlotte, North Carolina  \n"
     ]
    }
   ],
   "source": [
    "employee_info = df[(df['Employees'] < 100000)]\n",
    "print(employee_info)"
   ]
  },
  {
   "cell_type": "markdown",
   "id": "4e86ddd5",
   "metadata": {},
   "source": [
    "Which company had the highest revenue growth in 2022 out of the Top 100?"
   ]
  },
  {
   "cell_type": "code",
   "execution_count": 29,
   "id": "dc391d7d",
   "metadata": {},
   "outputs": [
    {
     "data": {
      "text/plain": [
       "Rank                                           43\n",
       "Name                                       Pfizer\n",
       "Industry                  Pharmaceutical industry\n",
       "Revenue (USD millions)                     81,288\n",
       "Revenue growth                             94.00%\n",
       "Employees                                 79000.0\n",
       "Headquarters              New York City, New York\n",
       "Name: 42, dtype: object"
      ]
     },
     "execution_count": 29,
     "metadata": {},
     "output_type": "execute_result"
    }
   ],
   "source": [
    "df.loc[df['Revenue growth'].idxmax()]"
   ]
  },
  {
   "cell_type": "markdown",
   "id": "6267ba88",
   "metadata": {},
   "source": [
    "Which company had the lowest revenue growth in 2022 out of the Top 100?"
   ]
  },
  {
   "cell_type": "code",
   "execution_count": 30,
   "id": "2e89f151",
   "metadata": {},
   "outputs": [
    {
     "data": {
      "text/plain": [
       "Rank                                             36\n",
       "Name                                Bank of America\n",
       "Industry                                 Financials\n",
       "Revenue (USD millions)                       93,851\n",
       "Revenue growth                                0.10%\n",
       "Employees                                  208248.0\n",
       "Headquarters              Charlotte, North Carolina\n",
       "Name: 35, dtype: object"
      ]
     },
     "execution_count": 30,
     "metadata": {},
     "output_type": "execute_result"
    }
   ],
   "source": [
    "df.loc[df['Revenue growth'].idxmin()]"
   ]
  }
 ],
 "metadata": {
  "kernelspec": {
   "display_name": "Python 3",
   "language": "python",
   "name": "python3"
  },
  "language_info": {
   "codemirror_mode": {
    "name": "ipython",
    "version": 3
   },
   "file_extension": ".py",
   "mimetype": "text/x-python",
   "name": "python",
   "nbconvert_exporter": "python",
   "pygments_lexer": "ipython3",
   "version": "3.13.1"
  }
 },
 "nbformat": 4,
 "nbformat_minor": 5
}
